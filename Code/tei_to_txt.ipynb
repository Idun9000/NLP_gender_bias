{
 "cells": [
  {
   "cell_type": "code",
   "execution_count": 1,
   "metadata": {},
   "outputs": [],
   "source": [
    "import os\n",
    "from lxml import etree\n",
    "import re"
   ]
  },
  {
   "cell_type": "markdown",
   "metadata": {},
   "source": [
    "## Function for removing special characters that XML doesn't understand"
   ]
  },
  {
   "cell_type": "code",
   "execution_count": 2,
   "metadata": {},
   "outputs": [],
   "source": [
    "\n",
    "def clean_special_characters(content):\n",
    "\n",
    "    # Remove smart quotes and other quotation marks\n",
    "    content = re.sub(r'“|”|‘|’|〝|〞|„|”', '', content)  # Remove smart quotes\n",
    "    content = re.sub(r'\"', '', content)  # Remove double quotes\n",
    "    content = re.sub(r\"'\", '', content)  # Remove single quotes\n",
    "\n",
    "    # Remove dashes (en dash, em dash, and others)\n",
    "    content = re.sub(r'–|—|−|•', '', content)  # Remove various dash characters\n",
    "\n",
    "    # Remove angle brackets \n",
    "    content = re.sub(r'<', '', content)\n",
    "    content = re.sub(r'>', '', content)\n",
    "\n",
    "    # Remove ampersand characters (&)\n",
    "    content = re.sub(r'&', '', content)  # Remove ampersand\n",
    "    \n",
    "    # Remove non-ASCII characters\n",
    "    content = re.sub(r'[^\\x00-\\x7F]+', '', content)  # Remove non-ASCII characters\n",
    "    \n",
    "    return content\n",
    "    "
   ]
  },
  {
   "cell_type": "markdown",
   "metadata": {},
   "source": [
    "## Function for extracting content from <text> tag, cleaning the sentences and converting to txt"
   ]
  },
  {
   "cell_type": "code",
   "execution_count": 3,
   "metadata": {},
   "outputs": [],
   "source": [
    "def extract_text_from_tei(filepath):\n",
    "    try:\n",
    "        # Read the file and parse the XML content\n",
    "        with open(filepath, \"r\", encoding=\"utf-8\") as file:\n",
    "            content = file.read()\n",
    "        \n",
    "        # Parse the XML content\n",
    "        tree = etree.fromstring(content)\n",
    "        namespaces = {'tei': 'http://www.tei-c.org/ns/1.0'}\n",
    "        \n",
    "        # Extract text from <p> tags, remove XML metadata and headers\n",
    "        paragraphs = tree.xpath(\"//tei:text//tei:p/text()\", namespaces=namespaces)\n",
    "        \n",
    "        # Clean each paragraph's text\n",
    "        cleaned_paragraphs = [clean_special_characters(paragraph) for paragraph in paragraphs]\n",
    "        \n",
    "        return ' '.join(cleaned_paragraphs)  # Join paragraphs to form the document text\n",
    "    except Exception as e:\n",
    "        print(f\"Error processing {filepath}: {e}\")\n",
    "        return None  # Return None if there's an error\n",
    "\n",
    "def convert_tei_to_txt(input_directory, output_directory):\n",
    "    for filename in os.listdir(input_directory):\n",
    "        if filename.endswith(\".tei\"):\n",
    "            filepath = os.path.join(input_directory, filename)\n",
    "            output_filepath = os.path.join(output_directory, filename.replace(\".tei\", \".txt\"))\n",
    "            \n",
    "            # Try to extract text from the TEI file\n",
    "            text = extract_text_from_tei(filepath)\n",
    "            \n",
    "            if text:\n",
    "                # Write the cleaned text to a txt file\n",
    "                with open(output_filepath, 'w', encoding='utf-8') as txt_file:\n",
    "                    txt_file.write(text)\n",
    "            else:\n",
    "                print(f\"Warning: No text extracted from {filename}\")"
   ]
  },
  {
   "cell_type": "markdown",
   "metadata": {},
   "source": [
    "## Defining which texts to convert and where to put them + calling the function"
   ]
  },
  {
   "cell_type": "code",
   "execution_count": 4,
   "metadata": {},
   "outputs": [],
   "source": [
    "input_directory = \"/Users/tildeidunsloth/Desktop/chicago_corpus/try\"\n",
    "output_directory = \"/Users/tildeidunsloth/Desktop/chicago_corpus/try_txt\"\n",
    "convert_tei_to_txt(input_directory, output_directory)"
   ]
  },
  {
   "cell_type": "code",
   "execution_count": null,
   "metadata": {},
   "outputs": [],
   "source": []
  }
 ],
 "metadata": {
  "kernelspec": {
   "display_name": "base",
   "language": "python",
   "name": "python3"
  },
  "language_info": {
   "codemirror_mode": {
    "name": "ipython",
    "version": 3
   },
   "file_extension": ".py",
   "mimetype": "text/x-python",
   "name": "python",
   "nbconvert_exporter": "python",
   "pygments_lexer": "ipython3",
   "version": "3.8.5"
  }
 },
 "nbformat": 4,
 "nbformat_minor": 4
}
