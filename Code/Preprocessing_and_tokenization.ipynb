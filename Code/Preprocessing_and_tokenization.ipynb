{
 "cells": [
  {
   "cell_type": "code",
   "execution_count": 20,
   "metadata": {},
   "outputs": [],
   "source": [
    "import os\n",
    "from nltk.tokenize import word_tokenize\n",
    "import re\n",
    "import json"
   ]
  },
  {
   "cell_type": "code",
   "execution_count": 24,
   "metadata": {},
   "outputs": [
    {
     "name": "stdout",
     "output_type": "stream",
     "text": [
      "['the', 'house', 'number', 'is', 'and', 'it', 'costs']\n"
     ]
    }
   ],
   "source": [
    "# Define the path to the folder with text files\n",
    "folder_path = \"/Users/tildeidunsloth/Desktop/chicago_corpus/texts_renamed_txt\"\n",
    "\n",
    "# Preprocessing function to keep only letters and remove extra spaces\n",
    "def preprocess_text(text):\n",
    "    text = text.lower()  # Convert to lowercase\n",
    "    text = re.sub(r'[^a-zA-Z]', ' ', text)  # Keep only letters\n",
    "    text = ' '.join(text.split())  # Remove extra spaces\n",
    "    tokens = text.split()\n",
    "    return tokens\n",
    "\n",
    "# testing the function\n",
    "text = \"The house number is 1234, and it costs $500!\"\n",
    "print(preprocess_text(text))\n"
   ]
  },
  {
   "cell_type": "code",
   "execution_count": 25,
   "metadata": {},
   "outputs": [
    {
     "ename": "",
     "evalue": "",
     "output_type": "error",
     "traceback": [
      "\u001b[1;31mThe Kernel crashed while executing code in the current cell or a previous cell. \n",
      "\u001b[1;31mPlease review the code in the cell(s) to identify a possible cause of the failure. \n",
      "\u001b[1;31mClick <a href='https://aka.ms/vscodeJupyterKernelCrash'>here</a> for more info. \n",
      "\u001b[1;31mView Jupyter <a href='command:jupyter.viewOutput'>log</a> for further details."
     ]
    }
   ],
   "source": [
    "# Initialize a dictionary to store tokenized data by year\n",
    "tokenized_data_by_year = {}\n",
    "\n",
    "# Process each .txt file in the folder\n",
    "for filename in os.listdir(folder_path):\n",
    "    if filename.endswith(\".txt\"):  # Only process .txt files\n",
    "        # Extract the year from the filename (e.g., \"001_Y2000.txt\")\n",
    "        match = re.search(r'Y_(\\d{4})', filename)\n",
    "        if match:\n",
    "            year = match.group(1)  # Extract the year (e.g., \"2000\")\n",
    "            file_path = os.path.join(folder_path, filename)  # Full file path\n",
    "            with open(file_path, 'r', encoding='utf-8') as file:\n",
    "                text = file.read()  # Read file content\n",
    "                tokens = preprocess_text(text)  # Preprocess and tokenize\n",
    "\n",
    "                # Add tokens to the year-specific list in the dictionary\n",
    "                if year not in tokenized_data_by_year:\n",
    "                    tokenized_data_by_year[year] = []\n",
    "                tokenized_data_by_year[year].append(tokens)\n",
    "\n",
    "# Save the tokenized data to a file (optional)\n",
    "output_path = \"/Users/tildeidunsloth/Desktop/chicago_corpus/tokenized_data_by_year.json\"\n",
    "with open(output_path, 'w', encoding='utf-8') as f:\n",
    "    json.dump(tokenized_data_by_year, f)"
   ]
  },
  {
   "cell_type": "code",
   "execution_count": null,
   "metadata": {},
   "outputs": [],
   "source": []
  }
 ],
 "metadata": {
  "kernelspec": {
   "display_name": "mne",
   "language": "python",
   "name": "python3"
  },
  "language_info": {
   "codemirror_mode": {
    "name": "ipython",
    "version": 3
   },
   "file_extension": ".py",
   "mimetype": "text/x-python",
   "name": "python",
   "nbconvert_exporter": "python",
   "pygments_lexer": "ipython3",
   "version": "3.11.0"
  }
 },
 "nbformat": 4,
 "nbformat_minor": 2
}
