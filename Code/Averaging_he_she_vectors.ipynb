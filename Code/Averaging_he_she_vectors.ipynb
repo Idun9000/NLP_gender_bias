{
 "cells": [
  {
   "cell_type": "markdown",
   "id": "c7d23e5c-e8ca-4ba3-a2b9-201949ecd80b",
   "metadata": {},
   "source": [
    "## Activate virtual environment"
   ]
  },
  {
   "cell_type": "code",
   "execution_count": 1,
   "id": "980856c4-46c5-484a-b147-589fe35e4849",
   "metadata": {},
   "outputs": [
    {
     "name": "stdout",
     "output_type": "stream",
     "text": [
      "Installed kernelspec virt_env in /home/ucloud/.local/share/jupyter/kernels/virt_env\n",
      "Done! Remember changing the kernel in Jupyter.\n"
     ]
    }
   ],
   "source": [
    "import os\n",
    "\n",
    "path='/work/NLP_exam'\n",
    "os.chdir(path)\n",
    "\n",
    "# Make the activate.sh file executable\n",
    "!chmod +x activate.sh\n",
    "\n",
    "# Now run the script\n",
    "!./activate.sh"
   ]
  },
  {
   "cell_type": "markdown",
   "id": "c7263b9f-869e-4a61-90fe-06d725b935d1",
   "metadata": {},
   "source": [
    "## Import packages"
   ]
  },
  {
   "cell_type": "code",
   "execution_count": 8,
   "id": "bed3e623-88d9-4bb4-9e6b-e865bb4efb40",
   "metadata": {},
   "outputs": [],
   "source": [
    "import os\n",
    "import numpy as np\n",
    "from gensim.models import Word2Vec\n",
    "from sklearn.metrics.pairwise import cosine_similarity"
   ]
  },
  {
   "cell_type": "markdown",
   "id": "f5646899-3e85-4581-a2a0-d7e8fc418a77",
   "metadata": {},
   "source": [
    "## Defining model paths"
   ]
  },
  {
   "cell_type": "code",
   "execution_count": 2,
   "id": "2c9f58bb-82da-4c7c-b9dd-b302ca8ed90f",
   "metadata": {},
   "outputs": [],
   "source": [
    "# Paths\n",
    "models_path = \"/work/NLP_exam/aligned_models\"\n",
    "output_path = \"/work/NLP_exam/he_she_aligned_models\""
   ]
  },
  {
   "cell_type": "markdown",
   "id": "3f883e79-65e9-470d-a3ad-c1b17aed6f0b",
   "metadata": {},
   "source": [
    "## Defining words for the he and she vector"
   ]
  },
  {
   "cell_type": "code",
   "execution_count": 5,
   "id": "239eaec2-69db-4747-b4a0-8b37a14e0203",
   "metadata": {},
   "outputs": [],
   "source": [
    "# Word lists\n",
    "he_words = [\"he\", \"father\", \"grandpa\", \"son\", \"man\", \"men\", \"sir\", \"his\", \"him\"]\n",
    "she_words = [\"she\", \"mother\", \"grandma\", \"daughter\", \"woman\", \"women\", \"madam\", \"her\", \"hers\"]"
   ]
  },
  {
   "cell_type": "markdown",
   "id": "81cccfe1-774a-452c-a9e8-0ea5b20f5903",
   "metadata": {},
   "source": [
    "## Update he and she vectors"
   ]
  },
  {
   "cell_type": "code",
   "execution_count": 6,
   "id": "3efef808-952d-42f1-bc70-0e7987e6bb6a",
   "metadata": {},
   "outputs": [
    {
     "name": "stdout",
     "output_type": "stream",
     "text": [
      "Updated and saved model: 1900.w2v\n",
      "Updated and saved model: 1901.w2v\n",
      "Updated and saved model: 1902.w2v\n",
      "Updated and saved model: 1903.w2v\n",
      "Updated and saved model: 1904.w2v\n",
      "Updated and saved model: 1905.w2v\n",
      "Updated and saved model: 1906.w2v\n",
      "Updated and saved model: 1907.w2v\n",
      "Updated and saved model: 1908.w2v\n",
      "Updated and saved model: 1909.w2v\n",
      "Updated and saved model: 1910.w2v\n",
      "Updated and saved model: 1911.w2v\n",
      "Updated and saved model: 1912.w2v\n",
      "Updated and saved model: 1913.w2v\n",
      "Updated and saved model: 1914.w2v\n",
      "Updated and saved model: 1915.w2v\n",
      "Updated and saved model: 1916.w2v\n",
      "Updated and saved model: 1917.w2v\n",
      "Updated and saved model: 1918.w2v\n",
      "Updated and saved model: 1919.w2v\n",
      "Updated and saved model: 1920.w2v\n",
      "Updated and saved model: 1921.w2v\n",
      "Updated and saved model: 1922.w2v\n",
      "Updated and saved model: 1923.w2v\n",
      "Updated and saved model: 1924.w2v\n",
      "Updated and saved model: 1925.w2v\n",
      "Updated and saved model: 1926.w2v\n",
      "Updated and saved model: 1927.w2v\n",
      "Updated and saved model: 1928.w2v\n",
      "Updated and saved model: 1929.w2v\n",
      "Updated and saved model: 1930.w2v\n",
      "Updated and saved model: 1931.w2v\n",
      "Updated and saved model: 1932.w2v\n",
      "Updated and saved model: 1933.w2v\n",
      "Updated and saved model: 1934.w2v\n",
      "Updated and saved model: 1935.w2v\n",
      "Updated and saved model: 1936.w2v\n",
      "Updated and saved model: 1937.w2v\n",
      "Updated and saved model: 1938.w2v\n",
      "Updated and saved model: 1939.w2v\n",
      "Updated and saved model: 1940.w2v\n",
      "Updated and saved model: 1941.w2v\n",
      "Updated and saved model: 1942.w2v\n",
      "Updated and saved model: 1943.w2v\n",
      "Updated and saved model: 1944.w2v\n",
      "Updated and saved model: 1945.w2v\n",
      "Updated and saved model: 1946.w2v\n",
      "Updated and saved model: 1947.w2v\n",
      "Updated and saved model: 1948.w2v\n",
      "Updated and saved model: 1949.w2v\n",
      "Updated and saved model: 1950.w2v\n",
      "Updated and saved model: 1951.w2v\n",
      "Updated and saved model: 1952.w2v\n",
      "Updated and saved model: 1953.w2v\n",
      "Updated and saved model: 1954.w2v\n",
      "Updated and saved model: 1955.w2v\n",
      "Updated and saved model: 1956.w2v\n",
      "Updated and saved model: 1957.w2v\n",
      "Updated and saved model: 1958.w2v\n",
      "Updated and saved model: 1959.w2v\n",
      "Updated and saved model: 1960.w2v\n",
      "Updated and saved model: 1961.w2v\n",
      "Updated and saved model: 1962.w2v\n",
      "Updated and saved model: 1963.w2v\n",
      "Updated and saved model: 1964.w2v\n",
      "Updated and saved model: 1965.w2v\n",
      "Updated and saved model: 1966.w2v\n",
      "Updated and saved model: 1967.w2v\n",
      "Updated and saved model: 1968.w2v\n",
      "Updated and saved model: 1969.w2v\n",
      "Updated and saved model: 1970.w2v\n",
      "Updated and saved model: 1971.w2v\n",
      "Updated and saved model: 1972.w2v\n",
      "Updated and saved model: 1973.w2v\n",
      "Updated and saved model: 1974.w2v\n",
      "Updated and saved model: 1975.w2v\n",
      "Updated and saved model: 1976.w2v\n",
      "Updated and saved model: 1977.w2v\n",
      "Updated and saved model: 1978.w2v\n",
      "Updated and saved model: 1979.w2v\n",
      "Updated and saved model: 1980.w2v\n",
      "Updated and saved model: 1981.w2v\n",
      "Updated and saved model: 1982.w2v\n",
      "Updated and saved model: 1983.w2v\n",
      "Updated and saved model: 1984.w2v\n",
      "Updated and saved model: 1985.w2v\n",
      "Updated and saved model: 1986.w2v\n",
      "Updated and saved model: 1987.w2v\n",
      "Updated and saved model: 1988.w2v\n",
      "Updated and saved model: 1989.w2v\n",
      "Updated and saved model: 1990.w2v\n",
      "Updated and saved model: 1991.w2v\n",
      "Updated and saved model: 1992.w2v\n",
      "Updated and saved model: 1993.w2v\n",
      "Updated and saved model: 1994.w2v\n",
      "Updated and saved model: 1995.w2v\n",
      "Updated and saved model: 1996.w2v\n",
      "Updated and saved model: 1997.w2v\n",
      "Updated and saved model: 1998.w2v\n",
      "Updated and saved model: 1999.w2v\n"
     ]
    }
   ],
   "source": [
    "# Function to compute the average vector\n",
    "def compute_average_vector(model, word_list):\n",
    "    vectors = []\n",
    "    for word in word_list:\n",
    "        if word in model:\n",
    "            vectors.append(model[word])\n",
    "    if vectors:\n",
    "        return np.mean(vectors, axis=0)\n",
    "    else:\n",
    "        raise ValueError(f\"None of the words in {word_list} exist in the model.\")\n",
    "\n",
    "# Process each model\n",
    "for model_file in sorted(os.listdir(models_path)):\n",
    "    if model_file.endswith(\".w2v\"):\n",
    "        model_path = os.path.join(models_path, model_file)\n",
    "        \n",
    "        # Load the model\n",
    "        model = Word2Vec.load(model_path)\n",
    "        word_vectors = model.wv  # Access the word vectors\n",
    "\n",
    "        try:\n",
    "            # Compute new \"he\" and \"she\" vectors\n",
    "            he_vector = compute_average_vector(word_vectors, he_words)\n",
    "            she_vector = compute_average_vector(word_vectors, she_words)\n",
    "            \n",
    "            # Update the vectors in the model\n",
    "            word_vectors[\"he\"] = he_vector\n",
    "            word_vectors[\"she\"] = she_vector\n",
    "            \n",
    "            # Save the updated model\n",
    "            updated_model_path = os.path.join(output_path, model_file)\n",
    "            model.save(updated_model_path)\n",
    "            print(f\"Updated and saved model: {model_file}\")\n",
    "        \n",
    "        except ValueError as e:\n",
    "            print(f\"Skipping model {model_file}: {e}\")"
   ]
  },
  {
   "cell_type": "markdown",
   "id": "3ef17496-8867-4893-8f55-e1aee3cc5a52",
   "metadata": {},
   "source": [
    "## Compare vectors before and after updating he and she vectors"
   ]
  },
  {
   "cell_type": "code",
   "execution_count": 7,
   "id": "ccd0fa4b-85fb-4ed5-9c38-a9069afd42ff",
   "metadata": {},
   "outputs": [],
   "source": [
    "aligned_model_1900 = Word2Vec.load(\"/work/NLP_exam/aligned_models/1900.w2v\").wv  \n",
    "aligned_model_1999 = Word2Vec.load(\"/work/NLP_exam/aligned_models/1999.w2v\").vw \n",
    "\n",
    "updated_aligned_model_1900 = Word2Vec.load(\"/work/NLP_exam/he_she_aligned_models/1900.w2v\").wv  \n",
    "updated_aligned_model_1999 = Word2Vec.load(\"/work/NLP_exam/he_she_aligned_models/1999.w2v\").wv  "
   ]
  },
  {
   "cell_type": "code",
   "execution_count": 13,
   "id": "546412c9-f454-4abf-86ef-0fde30f33669",
   "metadata": {},
   "outputs": [
    {
     "name": "stdout",
     "output_type": "stream",
     "text": [
      "0.7539094\n",
      "0.7852283\n",
      "0.8005604\n",
      "0.7702599\n"
     ]
    }
   ],
   "source": [
    "# Function to compare vectors\n",
    "# We can't use gensim's similarity function as we want to look at similarity between models\n",
    "def compare_word_vectors(word, model1, model2):\n",
    "    try:\n",
    "        vec1 = model1[word]\n",
    "        vec2 = model2[word]\n",
    "        similarity = cosine_similarity([vec1], [vec2])[0][0]\n",
    "        return similarity\n",
    "    except KeyError as e:\n",
    "        print(f\"Word not found in one of the models: {e}\")\n",
    "        return None\n",
    "\n",
    "# Example: Similarity of \"man\" before and after alignment\n",
    "he_vector_comparison_1900 = compare_word_vectors(\"he\", aligned_model_1900, updated_aligned_model_1900)\n",
    "he_vector_comparison_1999 = compare_word_vectors(\"he\", aligned_model_1999, updated_aligned_model_1999)\n",
    "she_vector_comparison_1900 = compare_word_vectors(\"she\", aligned_model_1900, updated_aligned_model_1900)\n",
    "she_vector_comparison_1999 = compare_word_vectors(\"she\", aligned_model_1999, updated_aligned_model_1999)\n",
    "print(he_vector_comparison_1900)\n",
    "print(he_vector_comparison_1999)\n",
    "print(she_vector_comparison_1900)\n",
    "print(she_vector_comparison_1999)"
   ]
  },
  {
   "cell_type": "code",
   "execution_count": null,
   "id": "235b4b4b-7701-4c67-91b0-5d330006f1cf",
   "metadata": {},
   "outputs": [],
   "source": []
  }
 ],
 "metadata": {
  "kernelspec": {
   "display_name": "virt_env",
   "language": "python",
   "name": "virt_env"
  },
  "language_info": {
   "codemirror_mode": {
    "name": "ipython",
    "version": 3
   },
   "file_extension": ".py",
   "mimetype": "text/x-python",
   "name": "python",
   "nbconvert_exporter": "python",
   "pygments_lexer": "ipython3",
   "version": "3.12.7"
  }
 },
 "nbformat": 4,
 "nbformat_minor": 5
}
