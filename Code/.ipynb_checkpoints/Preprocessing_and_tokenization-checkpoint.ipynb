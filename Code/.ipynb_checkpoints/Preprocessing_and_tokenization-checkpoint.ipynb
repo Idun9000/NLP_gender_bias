{
 "cells": [
  {
   "cell_type": "markdown",
   "metadata": {},
   "source": [
    "## Activate virtual environment"
   ]
  },
  {
   "cell_type": "code",
   "execution_count": 1,
   "metadata": {},
   "outputs": [
    {
     "name": "stdout",
     "output_type": "stream",
     "text": [
      "Installed kernelspec virt_env in /home/ucloud/.local/share/jupyter/kernels/virt_env\n",
      "Done! Remember changing the kernel in Jupyter.\n"
     ]
    }
   ],
   "source": [
    "import os\n",
    "\n",
    "path='/work/NLP_exam/NLP_gender_bias'\n",
    "os.chdir(path)\n",
    "\n",
    "# Make the activate.sh file executable\n",
    "!chmod +x activate.sh\n",
    "\n",
    "# Now run the script\n",
    "!./activate.sh"
   ]
  },
  {
   "cell_type": "markdown",
   "metadata": {},
   "source": [
    "## Importing packages"
   ]
  },
  {
   "cell_type": "code",
   "execution_count": 1,
   "metadata": {},
   "outputs": [],
   "source": [
    "from nltk.tokenize import word_tokenize\n",
    "import re\n",
    "import json\n",
    "import os"
   ]
  },
  {
   "cell_type": "markdown",
   "metadata": {},
   "source": [
    "## Creating a preprocessing function and test it"
   ]
  },
  {
   "cell_type": "code",
   "execution_count": 2,
   "metadata": {},
   "outputs": [
    {
     "name": "stdout",
     "output_type": "stream",
     "text": [
      "['the', 'house', 'number', 'is', 'and', 'it', 'costs']\n"
     ]
    }
   ],
   "source": [
    "# Define the path to the folder with text files\n",
    "folder_path = \"/work/NLP_exam/texts_renamed_txt\"\n",
    "\n",
    "# Preprocessing function to keep only letters and remove extra spaces\n",
    "def preprocess_text(text):\n",
    "    text = text.lower()  # Convert to lowercase\n",
    "    text = re.sub(r'[^a-zA-Z]', ' ', text)  # Keep only letters\n",
    "    text = ' '.join(text.split())  # Remove extra spaces\n",
    "    tokens = text.split()\n",
    "    return tokens\n",
    "\n",
    "# testing the function\n",
    "text = \"The house number is 1234, and it costs $500!\"\n",
    "print(preprocess_text(text))\n"
   ]
  },
  {
   "cell_type": "markdown",
   "metadata": {},
   "source": [
    "## Store tokenized books in a dictionary with year as key"
   ]
  },
  {
   "cell_type": "code",
   "execution_count": 3,
   "metadata": {},
   "outputs": [],
   "source": [
    "# Initialize a dictionary to store tokenized data by year\n",
    "tokenized_data_by_year = {}\n",
    "\n",
    "# Process each .txt file in the folder\n",
    "for filename in os.listdir(folder_path):\n",
    "    if filename.endswith(\".txt\"):  # Only process .txt files\n",
    "        # Extract the year from the filename \n",
    "        match = re.search(r'Y_(\\d{4})', filename)\n",
    "        if match:\n",
    "            year = match.group(1)  # Extract the year \n",
    "            file_path = os.path.join(folder_path, filename) \n",
    "            with open(file_path, 'r', encoding='utf-8') as file:\n",
    "                text = file.read()  # Read file content\n",
    "                tokens = preprocess_text(text)  # Preprocess and tokenize\n",
    "\n",
    "                # Add tokens to the year-specific list in the dictionary\n",
    "                if year not in tokenized_data_by_year:\n",
    "                    tokenized_data_by_year[year] = []\n",
    "                tokenized_data_by_year[year].append(tokens)\n",
    "\n",
    "# Save the tokenized data to a file (optional)\n",
    "output_path = \"/work/NLP_exam/tokenized_data_by_year.json\"\n",
    "with open(output_path, 'w', encoding='utf-8') as f:\n",
    "    json.dump(tokenized_data_by_year, f)"
   ]
  },
  {
   "cell_type": "code",
   "execution_count": null,
   "metadata": {},
   "outputs": [],
   "source": []
  }
 ],
 "metadata": {
  "kernelspec": {
   "display_name": "Python 3 ",
   "language": "python",
   "name": "python3"
  },
  "language_info": {
   "codemirror_mode": {
    "name": "ipython",
    "version": 3
   },
   "file_extension": ".py",
   "mimetype": "text/x-python",
   "name": "python",
   "nbconvert_exporter": "python",
   "pygments_lexer": "ipython3",
   "version": "3.12.7"
  }
 },
 "nbformat": 4,
 "nbformat_minor": 4
}
